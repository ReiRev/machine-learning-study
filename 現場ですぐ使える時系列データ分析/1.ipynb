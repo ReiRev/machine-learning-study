{
 "cells": [
  {
   "cell_type": "markdown",
   "metadata": {},
   "source": [
    "# 1. 時系列データのリテラシー"
   ]
  },
  {
   "cell_type": "markdown",
   "metadata": {},
   "source": [
    "## 1-1 時系列データとは\n",
    "\n",
    "+ 時系列データとは，一定の時間間隔によって計測されたデータとのこと．\n",
    "  + ex) 株価の終値\n",
    "+ 一方で，点過程データでは，時間間隔は指定されない\n",
    "  + ex) ティックデータ"
   ]
  },
  {
   "cell_type": "markdown",
   "metadata": {},
   "source": [
    "## 1-2 時系列データと確率分布\n",
    "\n",
    "時系列データをモデル化するには，その背後にある連続関数を捉えるということが行われる．"
   ]
  },
  {
   "cell_type": "markdown",
   "metadata": {},
   "source": [
    "## 1-3 株式収益率の時系列データ\n",
    "\n",
    "統計的手法の多くは，独立同一分布(independent and identically distribution, i.i.d, 非復元抽出のようなもの)を仮定していることが多い．しかしながら，時系列データの各データは，それより前のデータの影響を受けていることが多い．そのことを踏まえると，時系列データはi.i.dとはいえず，i.i.dを仮定しない統計手法が必要であるといえる．"
   ]
  },
  {
   "cell_type": "markdown",
   "metadata": {},
   "source": [
    "## 1-4 時系列分析に向けて\n",
    "\n",
    "時間依存の時系列データのためのモデルがいくつか存在する．\n",
    "\n",
    "+ 自己回帰モデル(Autoregressive model, ARモデル)\n",
    "  + 確率分布が過去の状態によって変化する\n",
    "+ 自己回帰条件付分散不均一モデル(Autoregressive conditional heteroscedasticity model, ARCH モデル)\n",
    "  + 誤差項が時間によって変化する"
   ]
  },
  {
   "cell_type": "markdown",
   "metadata": {},
   "source": []
  }
 ],
 "metadata": {
  "kernelspec": {
   "display_name": "kaggle",
   "language": "python",
   "name": "kaggle"
  },
  "language_info": {
   "name": "python",
   "version": "3.9.12"
  },
  "orig_nbformat": 4
 },
 "nbformat": 4,
 "nbformat_minor": 2
}
