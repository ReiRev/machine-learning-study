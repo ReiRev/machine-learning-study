{
 "cells": [
  {
   "cell_type": "markdown",
   "metadata": {},
   "source": [
    "# [QUICKSTART](https://pytorch.org/tutorials/beginner/basics/quickstart_tutorial.html)\n",
    "\n",
    "+ torch.utils.data.Dataset: 入出力データ\n",
    "+ torch.utils.data.DataLoader: Datasetのイテラブル"
   ]
  },
  {
   "cell_type": "code",
   "execution_count": 1,
   "metadata": {},
   "outputs": [],
   "source": [
    "import torch\n",
    "import torch.nn as nn\n",
    "import torchvision"
   ]
  },
  {
   "cell_type": "markdown",
   "metadata": {},
   "source": [
    "torchは分野ごとに，torchtext, torchvision, torchaudioに分かれており，それらにデータセットが含まれている．\n",
    "\n",
    "今回扱うFashionMNISTは，服の画像とそれに対応する服の種類がラベルとして与えらる．"
   ]
  },
  {
   "cell_type": "code",
   "execution_count": 2,
   "metadata": {},
   "outputs": [],
   "source": [
    "train_data = torchvision.datasets.FashionMNIST(\n",
    "    root='data',\n",
    "    train=True,\n",
    "    download=True,\n",
    "    transform = torchvision.transforms.ToTensor()\n",
    ")\n",
    "test_data = torchvision.datasets.FashionMNIST(\n",
    "    root='data',\n",
    "    train=False,\n",
    "    download=True,\n",
    "    transform = torchvision.transforms.ToTensor()\n",
    ")"
   ]
  },
  {
   "cell_type": "code",
   "execution_count": 3,
   "metadata": {},
   "outputs": [
    {
     "name": "stdout",
     "output_type": "stream",
     "text": [
      "type: <class 'torchvision.datasets.mnist.FashionMNIST'>\n",
      "content: \n",
      "Dataset FashionMNIST\n",
      "    Number of datapoints: 60000\n",
      "    Root location: data\n",
      "    Split: Train\n",
      "    StandardTransform\n",
      "Transform: ToTensor()\n"
     ]
    }
   ],
   "source": [
    "print('type: {}'.format(type(train_data)))\n",
    "print('content: \\n{}'.format(train_data))\n"
   ]
  },
  {
   "cell_type": "code",
   "execution_count": 4,
   "metadata": {},
   "outputs": [
    {
     "name": "stdout",
     "output_type": "stream",
     "text": [
      "X shape: torch.Size([32, 1, 28, 28])\n",
      "y shape: torch.Size([32])\n"
     ]
    }
   ],
   "source": [
    "batch_size = 32\n",
    "train_dataloader = torch.utils.data.DataLoader(train_data, batch_size=batch_size)\n",
    "test_dataloader = torch.utils.data.DataLoader(test_data, batch_size=batch_size)\n",
    "\n",
    "for X, y in test_dataloader:\n",
    "    # [batch_size, 1, 28, 28]\n",
    "    # 白黒画像の28x28px\n",
    "    print('X shape: {}'.format(X.shape))\n",
    "    # [batch_size]\n",
    "    # 0~9のラベル\n",
    "    print('y shape: {}'.format(y.shape))\n",
    "    break"
   ]
  },
  {
   "cell_type": "code",
   "execution_count": 5,
   "metadata": {},
   "outputs": [
    {
     "name": "stdout",
     "output_type": "stream",
     "text": [
      "Using cuda device\n",
      "NeuralNetwork(\n",
      "  (flatten): Flatten(start_dim=1, end_dim=-1)\n",
      "  (linear_relu_stack): Sequential(\n",
      "    (0): Linear(in_features=784, out_features=512, bias=True)\n",
      "    (1): ReLU()\n",
      "    (2): Linear(in_features=512, out_features=512, bias=True)\n",
      "    (3): ReLU()\n",
      "    (4): Linear(in_features=512, out_features=10, bias=True)\n",
      "  )\n",
      ")\n"
     ]
    }
   ],
   "source": [
    "# Get cpu or gpu device for training.\n",
    "device = \"cuda\" if torch.cuda.is_available() else \"cpu\"\n",
    "print(f\"Using {device} device\")\n",
    "\n",
    "# Define model\n",
    "class NeuralNetwork(nn.Module):\n",
    "    def __init__(self):\n",
    "        super(NeuralNetwork, self).__init__()\n",
    "        self.flatten = nn.Flatten()\n",
    "        self.linear_relu_stack = nn.Sequential(\n",
    "            nn.Linear(28*28, 512),\n",
    "            nn.ReLU(),\n",
    "            nn.Linear(512, 512),\n",
    "            nn.ReLU(),\n",
    "            nn.Linear(512, 10)\n",
    "        )\n",
    "\n",
    "    def forward(self, x):\n",
    "        x = self.flatten(x)\n",
    "        logits = self.linear_relu_stack(x)\n",
    "        return logits\n",
    "\n",
    "model = NeuralNetwork().to(device)\n",
    "print(model)"
   ]
  },
  {
   "cell_type": "code",
   "execution_count": 6,
   "metadata": {},
   "outputs": [],
   "source": [
    "loss_fn = nn.CrossEntropyLoss()\n",
    "optimizer = torch.optim.SGD(model.parameters(), lr=1e-3)"
   ]
  },
  {
   "cell_type": "code",
   "execution_count": 7,
   "metadata": {},
   "outputs": [],
   "source": [
    "def train(dataloader, model, loss_fn, optimizer):\n",
    "    size = len(dataloader.dataset)\n",
    "    model.train()\n",
    "    for batch, (X, y) in enumerate(dataloader):\n",
    "        X, y = X.to(device), y.to(device)\n",
    "\n",
    "        pred = model(X)\n",
    "        loss = loss_fn(pred, y)\n",
    "\n",
    "        optimizer.zero_grad()\n",
    "        loss.backward()\n",
    "        optimizer.step()\n",
    "\n",
    "        if batch%100 == 0:\n",
    "            loss, current = loss.item(), batch*len(X)\n",
    "            print(f\"loss: {loss:.4f}, [{current:>5d}/{size:>5d}]\")"
   ]
  },
  {
   "cell_type": "code",
   "execution_count": 8,
   "metadata": {},
   "outputs": [],
   "source": [
    "def test(dataloader, model, loss_fn):\n",
    "    size = len(dataloader.dataset)\n",
    "    num_batches = len(dataloader)\n",
    "    model.eval()\n",
    "    test_loss, correct = 0, 0\n",
    "    with torch.no_grad():\n",
    "        for X, y in dataloader:\n",
    "            X, y = X.to(device), y.to(device)\n",
    "            pred = model(X)\n",
    "            test_loss += loss_fn(pred, y).item()\n",
    "            correct += (pred.argmax(1) == y).type(torch.float).sum().item()\n",
    "    test_loss /= num_batches\n",
    "    correct /= size\n",
    "    print(f\"Test Error: \\n Accuracy: {(100*correct):>0.1f}%, Avg loss: {test_loss:>8f} \\n\")"
   ]
  },
  {
   "cell_type": "code",
   "execution_count": 9,
   "metadata": {},
   "outputs": [
    {
     "name": "stdout",
     "output_type": "stream",
     "text": [
      "Epoch 1\n",
      "-------------------------------\n",
      "loss: 2.2987, [    0/60000]\n",
      "loss: 2.2949, [ 3200/60000]\n",
      "loss: 2.2759, [ 6400/60000]\n",
      "loss: 2.2575, [ 9600/60000]\n",
      "loss: 2.2462, [12800/60000]\n",
      "loss: 2.2354, [16000/60000]\n",
      "loss: 2.2124, [19200/60000]\n",
      "loss: 2.1947, [22400/60000]\n",
      "loss: 2.2016, [25600/60000]\n",
      "loss: 2.1492, [28800/60000]\n",
      "loss: 2.1119, [32000/60000]\n",
      "loss: 2.0823, [35200/60000]\n",
      "loss: 2.1734, [38400/60000]\n",
      "loss: 2.0745, [41600/60000]\n",
      "loss: 2.0406, [44800/60000]\n",
      "loss: 2.0158, [48000/60000]\n",
      "loss: 2.0871, [51200/60000]\n",
      "loss: 1.9880, [54400/60000]\n",
      "loss: 1.9264, [57600/60000]\n",
      "Test Error: \n",
      " Accuracy: 58.9%, Avg loss: 1.913935 \n",
      "\n",
      "Epoch 2\n",
      "-------------------------------\n",
      "loss: 1.8986, [    0/60000]\n",
      "loss: 1.9435, [ 3200/60000]\n",
      "loss: 1.8585, [ 6400/60000]\n",
      "loss: 1.8010, [ 9600/60000]\n",
      "loss: 1.7402, [12800/60000]\n",
      "loss: 1.7786, [16000/60000]\n",
      "loss: 1.6198, [19200/60000]\n",
      "loss: 1.6079, [22400/60000]\n",
      "loss: 1.6080, [25600/60000]\n",
      "loss: 1.5703, [28800/60000]\n",
      "loss: 1.4109, [32000/60000]\n",
      "loss: 1.3394, [35200/60000]\n",
      "loss: 1.5594, [38400/60000]\n",
      "loss: 1.4160, [41600/60000]\n",
      "loss: 1.3093, [44800/60000]\n",
      "loss: 1.2918, [48000/60000]\n",
      "loss: 1.4056, [51200/60000]\n",
      "loss: 1.3739, [54400/60000]\n",
      "loss: 1.2114, [57600/60000]\n",
      "Test Error: \n",
      " Accuracy: 62.7%, Avg loss: 1.258681 \n",
      "\n",
      "Epoch 3\n",
      "-------------------------------\n",
      "loss: 1.2483, [    0/60000]\n",
      "loss: 1.2636, [ 3200/60000]\n",
      "loss: 1.2444, [ 6400/60000]\n",
      "loss: 1.2762, [ 9600/60000]\n",
      "loss: 1.1373, [12800/60000]\n",
      "loss: 1.2968, [16000/60000]\n",
      "loss: 1.0227, [19200/60000]\n",
      "loss: 1.0393, [22400/60000]\n",
      "loss: 1.1025, [25600/60000]\n",
      "loss: 1.1832, [28800/60000]\n",
      "loss: 0.9984, [32000/60000]\n",
      "loss: 0.9372, [35200/60000]\n",
      "loss: 1.2227, [38400/60000]\n",
      "loss: 1.0656, [41600/60000]\n",
      "loss: 0.9822, [44800/60000]\n",
      "loss: 0.9096, [48000/60000]\n",
      "loss: 1.0375, [51200/60000]\n",
      "loss: 1.1281, [54400/60000]\n",
      "loss: 0.9097, [57600/60000]\n",
      "Test Error: \n",
      " Accuracy: 65.8%, Avg loss: 0.979369 \n",
      "\n",
      "Epoch 4\n",
      "-------------------------------\n",
      "loss: 0.9295, [    0/60000]\n",
      "loss: 0.9878, [ 3200/60000]\n",
      "loss: 0.9796, [ 6400/60000]\n",
      "loss: 1.0868, [ 9600/60000]\n",
      "loss: 0.8743, [12800/60000]\n",
      "loss: 1.0890, [16000/60000]\n",
      "loss: 0.7857, [19200/60000]\n",
      "loss: 0.7918, [22400/60000]\n",
      "loss: 0.8882, [25600/60000]\n",
      "loss: 1.0645, [28800/60000]\n",
      "loss: 0.8153, [32000/60000]\n",
      "loss: 0.7572, [35200/60000]\n",
      "loss: 1.1099, [38400/60000]\n",
      "loss: 0.9396, [41600/60000]\n",
      "loss: 0.8612, [44800/60000]\n",
      "loss: 0.7510, [48000/60000]\n",
      "loss: 0.8798, [51200/60000]\n",
      "loss: 1.0196, [54400/60000]\n",
      "loss: 0.7920, [57600/60000]\n",
      "Test Error: \n",
      " Accuracy: 68.5%, Avg loss: 0.854546 \n",
      "\n",
      "Epoch 5\n",
      "-------------------------------\n",
      "loss: 0.7746, [    0/60000]\n",
      "loss: 0.8864, [ 3200/60000]\n",
      "loss: 0.8479, [ 6400/60000]\n",
      "loss: 0.9710, [ 9600/60000]\n",
      "loss: 0.7461, [12800/60000]\n",
      "loss: 0.9893, [16000/60000]\n",
      "loss: 0.6709, [19200/60000]\n",
      "loss: 0.6603, [22400/60000]\n",
      "loss: 0.7776, [25600/60000]\n",
      "loss: 1.0082, [28800/60000]\n",
      "loss: 0.7241, [32000/60000]\n",
      "loss: 0.6661, [35200/60000]\n",
      "loss: 1.0429, [38400/60000]\n",
      "loss: 0.8874, [41600/60000]\n",
      "loss: 0.8081, [44800/60000]\n",
      "loss: 0.6720, [48000/60000]\n",
      "loss: 0.7930, [51200/60000]\n",
      "loss: 0.9516, [54400/60000]\n",
      "loss: 0.7340, [57600/60000]\n",
      "Test Error: \n",
      " Accuracy: 71.0%, Avg loss: 0.783477 \n",
      "\n",
      "Done!\n"
     ]
    }
   ],
   "source": [
    "epochs = 5\n",
    "for t in range(epochs):\n",
    "    print(f\"Epoch {t+1}\\n-------------------------------\")\n",
    "    train(train_dataloader, model, loss_fn, optimizer)\n",
    "    test(test_dataloader, model, loss_fn)\n",
    "print(\"Done!\")"
   ]
  },
  {
   "cell_type": "code",
   "execution_count": 10,
   "metadata": {},
   "outputs": [
    {
     "name": "stdout",
     "output_type": "stream",
     "text": [
      "Saved PyTorch Model State to model.pth\n"
     ]
    }
   ],
   "source": [
    "torch.save(model.state_dict(), \"model.pth\")\n",
    "print(\"Saved PyTorch Model State to model.pth\")"
   ]
  },
  {
   "cell_type": "code",
   "execution_count": 11,
   "metadata": {},
   "outputs": [
    {
     "data": {
      "text/plain": [
       "<All keys matched successfully>"
      ]
     },
     "execution_count": 11,
     "metadata": {},
     "output_type": "execute_result"
    }
   ],
   "source": [
    "model = NeuralNetwork()\n",
    "model.load_state_dict(torch.load(\"model.pth\"))"
   ]
  },
  {
   "cell_type": "code",
   "execution_count": 15,
   "metadata": {},
   "outputs": [
    {
     "name": "stdout",
     "output_type": "stream",
     "text": [
      "Predicted: \"Ankle boot\", Actual: \"Ankle boot\"\n"
     ]
    }
   ],
   "source": [
    "classes = [\n",
    "    \"T-shirt/top\",\n",
    "    \"Trouser\",\n",
    "    \"Pullover\",\n",
    "    \"Dress\",\n",
    "    \"Coat\",\n",
    "    \"Sandal\",\n",
    "    \"Shirt\",\n",
    "    \"Sneaker\",\n",
    "    \"Bag\",\n",
    "    \"Ankle boot\",\n",
    "]\n",
    "\n",
    "model.eval()\n",
    "x, y = test_data[0][0], test_data[0][1]\n",
    "with torch.no_grad():\n",
    "    pred = model(x)\n",
    "    predicted, actual = classes[pred[0].argmax(0)], classes[y]\n",
    "    print(f'Predicted: \"{predicted}\", Actual: \"{actual}\"')"
   ]
  },
  {
   "cell_type": "code",
   "execution_count": null,
   "metadata": {},
   "outputs": [],
   "source": []
  }
 ],
 "metadata": {
  "interpreter": {
   "hash": "80c1ff4db5646da1a3ab76adc78ddd186ba08af5fe476060e77231de69b1ab77"
  },
  "kernelspec": {
   "display_name": "Python 3.9.7 ('torch')",
   "language": "python",
   "name": "python3"
  },
  "language_info": {
   "codemirror_mode": {
    "name": "ipython",
    "version": 3
   },
   "file_extension": ".py",
   "mimetype": "text/x-python",
   "name": "python",
   "nbconvert_exporter": "python",
   "pygments_lexer": "ipython3",
   "version": "3.9.7"
  },
  "orig_nbformat": 4
 },
 "nbformat": 4,
 "nbformat_minor": 2
}
